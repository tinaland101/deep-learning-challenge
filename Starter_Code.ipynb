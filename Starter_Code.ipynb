{
 "cells": [
  {
   "cell_type": "markdown",
   "metadata": {},
   "source": [
    "## Preprocessing"
   ]
  },
  {
   "cell_type": "code",
   "execution_count": null,
   "metadata": {},
   "outputs": [
    {
     "name": "stdout",
     "output_type": "stream",
     "text": [
      "CSV file loaded successfully!\n",
      "        EIN                                      NAME APPLICATION_TYPE  \\\n",
      "0  10520599              BLUE KNIGHTS MOTORCYCLE CLUB              T10   \n",
      "1  10531628    AMERICAN CHESAPEAKE CLUB CHARITABLE TR               T3   \n",
      "2  10547893        ST CLOUD PROFESSIONAL FIREFIGHTERS               T5   \n",
      "3  10553066            SOUTHSIDE ATHLETIC ASSOCIATION               T3   \n",
      "4  10556103  GENETIC RESEARCH INSTITUTE OF THE DESERT               T3   \n",
      "\n",
      "        AFFILIATION CLASSIFICATION      USE_CASE  ORGANIZATION  STATUS  \\\n",
      "0       Independent          C1000    ProductDev   Association       1   \n",
      "1       Independent          C2000  Preservation  Co-operative       1   \n",
      "2  CompanySponsored          C3000    ProductDev   Association       1   \n",
      "3  CompanySponsored          C2000  Preservation         Trust       1   \n",
      "4       Independent          C1000     Heathcare         Trust       1   \n",
      "\n",
      "      INCOME_AMT SPECIAL_CONSIDERATIONS  ASK_AMT  IS_SUCCESSFUL  \n",
      "0              0                      N     5000              1  \n",
      "1         1-9999                      N   108590              1  \n",
      "2              0                      N     5000              0  \n",
      "3    10000-24999                      N     6692              1  \n",
      "4  100000-499999                      N   142590              1  \n"
     ]
    }
   ],
   "source": [
    "# Import dependencies\n",
    "from sklearn.model_selection import train_test_split\n",
    "from sklearn.preprocessing import StandardScaler\n",
    "import pandas as pd\n",
    "import tensorflow as tf\n",
    "import ssl\n",
    "import certifi\n",
    "\n",
    "# Set up SSL context correctly\n",
    "ssl_context = ssl.create_default_context(cafile=certifi.where())\n",
    "\n",
    "# Load the dataset from the provided cloud URL\n",
    "csv_url = \"https://static.bc-edx.com/data/dl-1-2/m21/lms/starter/charity_data.csv\"\n",
    "\n",
    "#Issues loadind in csv - try/execept condition function\n",
    "try:\n",
    "    \n",
    "    import urllib.request\n",
    "    with urllib.request.urlopen(csv_url, context=ssl_context) as response:\n",
    "        application_df = pd.read_csv(response)\n",
    "\n",
    "    print(\"CSV file loaded successfully!\")\n",
    "    print(application_df.head())  \n",
    "except Exception as e:\n",
    "    print(f\"Error loading CSV file: {e}\")\n"
   ]
  },
  {
   "cell_type": "code",
   "execution_count": 5,
   "metadata": {},
   "outputs": [],
   "source": [
    "# Drop the non-beneficial ID columns, 'EIN' and 'NAME'.\n",
    "application_df = application_df.drop(columns=[\"EIN\", \"NAME\"])"
   ]
  },
  {
   "cell_type": "code",
   "execution_count": 6,
   "metadata": {},
   "outputs": [
    {
     "name": "stdout",
     "output_type": "stream",
     "text": [
      "APPLICATION_TYPE            17\n",
      "AFFILIATION                  6\n",
      "CLASSIFICATION              71\n",
      "USE_CASE                     5\n",
      "ORGANIZATION                 4\n",
      "STATUS                       2\n",
      "INCOME_AMT                   9\n",
      "SPECIAL_CONSIDERATIONS       2\n",
      "ASK_AMT                   8747\n",
      "IS_SUCCESSFUL                2\n",
      "dtype: int64\n"
     ]
    }
   ],
   "source": [
    "# Determine the number of unique values in each column.\n",
    "unique_counts = application_df.nunique()\n",
    "print(unique_counts)"
   ]
  },
  {
   "cell_type": "code",
   "execution_count": 7,
   "metadata": {},
   "outputs": [
    {
     "name": "stdout",
     "output_type": "stream",
     "text": [
      "APPLICATION_TYPE\n",
      "T3     27037\n",
      "T4      1542\n",
      "T6      1216\n",
      "T5      1173\n",
      "T19     1065\n",
      "T8       737\n",
      "T7       725\n",
      "T10      528\n",
      "T9       156\n",
      "T13       66\n",
      "T12       27\n",
      "T2        16\n",
      "T25        3\n",
      "T14        3\n",
      "T29        2\n",
      "T15        2\n",
      "T17        1\n",
      "Name: count, dtype: int64\n"
     ]
    }
   ],
   "source": [
    "# Look at APPLICATION_TYPE value counts to identify and replace with \"Other\"\n",
    "application_type_counts = application_df[\"APPLICATION_TYPE\"].value_counts()\n",
    "print(application_type_counts)"
   ]
  },
  {
   "cell_type": "code",
   "execution_count": 8,
   "metadata": {},
   "outputs": [
    {
     "name": "stdout",
     "output_type": "stream",
     "text": [
      "APPLICATION_TYPE\n",
      "T3       27037\n",
      "T4        1542\n",
      "T6        1216\n",
      "T5        1173\n",
      "T19       1065\n",
      "T8         737\n",
      "T7         725\n",
      "T10        528\n",
      "Other      276\n",
      "Name: count, dtype: int64\n"
     ]
    }
   ],
   "source": [
    "# Choose a cutoff value and create a list of application types to be replaced\n",
    "# use the variable name `application_types_to_replace`\n",
    "application_types_to_replace = application_type_counts[application_type_counts < 500].index.tolist()\n",
    "\n",
    "\n",
    "# Replace in dataframe\n",
    "for app in application_types_to_replace:\n",
    "    application_df['APPLICATION_TYPE'] = application_df['APPLICATION_TYPE'].replace(app,\"Other\")\n",
    "\n",
    "# Check to make sure replacement was successful\n",
    "application_df['APPLICATION_TYPE'].value_counts()\n",
    "print(application_df[\"APPLICATION_TYPE\"].value_counts())"
   ]
  },
  {
   "cell_type": "code",
   "execution_count": 9,
   "metadata": {},
   "outputs": [
    {
     "name": "stdout",
     "output_type": "stream",
     "text": [
      "CLASSIFICATION\n",
      "C1000    17326\n",
      "C2000     6074\n",
      "C1200     4837\n",
      "C3000     1918\n",
      "C2100     1883\n",
      "         ...  \n",
      "C1248        1\n",
      "C6100        1\n",
      "C1820        1\n",
      "C1900        1\n",
      "C2150        1\n",
      "Name: count, Length: 71, dtype: int64\n"
     ]
    }
   ],
   "source": [
    "# Look at CLASSIFICATION value counts to identify and replace with \"Other\"\n",
    "classification_counts = application_df[\"CLASSIFICATION\"].value_counts()\n",
    "print(classification_counts)\n"
   ]
  },
  {
   "cell_type": "code",
   "execution_count": 11,
   "metadata": {},
   "outputs": [],
   "source": [
    "# You may find it helpful to look at CLASSIFICATION value counts >1\n",
    "classifications_to_replace = classification_counts[classification_counts < 1000].index.tolist()\n"
   ]
  },
  {
   "cell_type": "code",
   "execution_count": 12,
   "metadata": {},
   "outputs": [
    {
     "name": "stdout",
     "output_type": "stream",
     "text": [
      "CLASSIFICATION\n",
      "C1000    17326\n",
      "C2000     6074\n",
      "C1200     4837\n",
      "Other     2261\n",
      "C3000     1918\n",
      "C2100     1883\n",
      "Name: count, dtype: int64\n"
     ]
    }
   ],
   "source": [
    "# Choose a cutoff value and create a list of classifications to be replaced\n",
    "# use the variable name `classifications_to_replace`\n",
    "#  YOUR CODE GOES HERE\n",
    "\n",
    "# Replace in dataframe\n",
    "for cls in classifications_to_replace:\n",
    "    application_df['CLASSIFICATION'] = application_df['CLASSIFICATION'].replace(cls,\"Other\")\n",
    "\n",
    "# Check to make sure replacement was successful\n",
    "print(application_df[\"CLASSIFICATION\"].value_counts())"
   ]
  },
  {
   "cell_type": "code",
   "execution_count": 15,
   "metadata": {},
   "outputs": [
    {
     "name": "stdout",
     "output_type": "stream",
     "text": [
      "       STATUS   ASK_AMT  IS_SUCCESSFUL  APPLICATION_TYPE_Other  \\\n",
      "0           1      5000              1                   False   \n",
      "1           1    108590              1                   False   \n",
      "2           1      5000              0                   False   \n",
      "3           1      6692              1                   False   \n",
      "4           1    142590              1                   False   \n",
      "...       ...       ...            ...                     ...   \n",
      "34294       1      5000              0                   False   \n",
      "34295       1      5000              0                   False   \n",
      "34296       1      5000              0                   False   \n",
      "34297       1      5000              1                   False   \n",
      "34298       1  36500179              0                   False   \n",
      "\n",
      "       APPLICATION_TYPE_T10  APPLICATION_TYPE_T19  APPLICATION_TYPE_T3  \\\n",
      "0                      True                 False                False   \n",
      "1                     False                 False                 True   \n",
      "2                     False                 False                False   \n",
      "3                     False                 False                 True   \n",
      "4                     False                 False                 True   \n",
      "...                     ...                   ...                  ...   \n",
      "34294                 False                 False                False   \n",
      "34295                 False                 False                False   \n",
      "34296                 False                 False                 True   \n",
      "34297                 False                 False                False   \n",
      "34298                 False                 False                 True   \n",
      "\n",
      "       APPLICATION_TYPE_T4  APPLICATION_TYPE_T5  APPLICATION_TYPE_T6  ...  \\\n",
      "0                    False                False                False  ...   \n",
      "1                    False                False                False  ...   \n",
      "2                    False                 True                False  ...   \n",
      "3                    False                False                False  ...   \n",
      "4                    False                False                False  ...   \n",
      "...                    ...                  ...                  ...  ...   \n",
      "34294                 True                False                False  ...   \n",
      "34295                 True                False                False  ...   \n",
      "34296                False                False                False  ...   \n",
      "34297                False                 True                False  ...   \n",
      "34298                False                False                False  ...   \n",
      "\n",
      "       INCOME_AMT_1-9999  INCOME_AMT_10000-24999  INCOME_AMT_100000-499999  \\\n",
      "0                  False                   False                     False   \n",
      "1                   True                   False                     False   \n",
      "2                  False                   False                     False   \n",
      "3                  False                    True                     False   \n",
      "4                  False                   False                      True   \n",
      "...                  ...                     ...                       ...   \n",
      "34294              False                   False                     False   \n",
      "34295              False                   False                     False   \n",
      "34296              False                   False                     False   \n",
      "34297              False                   False                     False   \n",
      "34298              False                   False                     False   \n",
      "\n",
      "       INCOME_AMT_10M-50M  INCOME_AMT_1M-5M  INCOME_AMT_25000-99999  \\\n",
      "0                   False             False                   False   \n",
      "1                   False             False                   False   \n",
      "2                   False             False                   False   \n",
      "3                   False             False                   False   \n",
      "4                   False             False                   False   \n",
      "...                   ...               ...                     ...   \n",
      "34294               False             False                   False   \n",
      "34295               False             False                   False   \n",
      "34296               False             False                   False   \n",
      "34297               False             False                   False   \n",
      "34298               False              True                   False   \n",
      "\n",
      "       INCOME_AMT_50M+  INCOME_AMT_5M-10M  SPECIAL_CONSIDERATIONS_N  \\\n",
      "0                False              False                      True   \n",
      "1                False              False                      True   \n",
      "2                False              False                      True   \n",
      "3                False              False                      True   \n",
      "4                False              False                      True   \n",
      "...                ...                ...                       ...   \n",
      "34294            False              False                      True   \n",
      "34295            False              False                      True   \n",
      "34296            False              False                      True   \n",
      "34297            False              False                      True   \n",
      "34298            False              False                      True   \n",
      "\n",
      "       SPECIAL_CONSIDERATIONS_Y  \n",
      "0                         False  \n",
      "1                         False  \n",
      "2                         False  \n",
      "3                         False  \n",
      "4                         False  \n",
      "...                         ...  \n",
      "34294                     False  \n",
      "34295                     False  \n",
      "34296                     False  \n",
      "34297                     False  \n",
      "34298                     False  \n",
      "\n",
      "[34299 rows x 44 columns]\n"
     ]
    }
   ],
   "source": [
    "# Convert categorical data to numeric with `pd.get_dummies`\n",
    "application_df = pd.get_dummies(application_df)\n",
    "print(application_df)"
   ]
  },
  {
   "cell_type": "code",
   "execution_count": 16,
   "metadata": {},
   "outputs": [],
   "source": [
    "X = application_df.drop(columns=[\"IS_SUCCESSFUL\"]).values  # Drop target column\n",
    "Y = application_df[\"IS_SUCCESSFUL\"].values  # Target variable\n",
    "\n",
    "X_train, X_test, y_train, y_test = train_test_split(X, Y, test_size=0.2, random_state=42)\n"
   ]
  },
  {
   "cell_type": "code",
   "execution_count": 17,
   "metadata": {},
   "outputs": [],
   "source": [
    "# Create a StandardScaler instances\n",
    "scaler = StandardScaler()\n",
    "\n",
    "# Fit the StandardScaler\n",
    "X_scaler = scaler.fit(X_train)\n",
    "\n",
    "# Scale the data\n",
    "X_train_scaled = X_scaler.transform(X_train)\n",
    "X_test_scaled = X_scaler.transform(X_test)"
   ]
  },
  {
   "cell_type": "markdown",
   "metadata": {},
   "source": [
    "## Compile, Train and Evaluate the Model"
   ]
  },
  {
   "cell_type": "code",
   "execution_count": null,
   "metadata": {},
   "outputs": [
    {
     "name": "stderr",
     "output_type": "stream",
     "text": [
      "/Library/Frameworks/Python.framework/Versions/3.12/lib/python3.12/site-packages/keras/src/layers/core/dense.py:87: UserWarning: Do not pass an `input_shape`/`input_dim` argument to a layer. When using Sequential models, prefer using an `Input(shape)` object as the first layer in the model instead.\n",
      "  super().__init__(activity_regularizer=activity_regularizer, **kwargs)\n"
     ]
    },
    {
     "data": {
      "text/html": [
       "<pre style=\"white-space:pre;overflow-x:auto;line-height:normal;font-family:Menlo,'DejaVu Sans Mono',consolas,'Courier New',monospace\"><span style=\"font-weight: bold\">Model: \"sequential\"</span>\n",
       "</pre>\n"
      ],
      "text/plain": [
       "\u001b[1mModel: \"sequential\"\u001b[0m\n"
      ]
     },
     "metadata": {},
     "output_type": "display_data"
    },
    {
     "data": {
      "text/html": [
       "<pre style=\"white-space:pre;overflow-x:auto;line-height:normal;font-family:Menlo,'DejaVu Sans Mono',consolas,'Courier New',monospace\">┏━━━━━━━━━━━━━━━━━━━━━━━━━━━━━━━━━┳━━━━━━━━━━━━━━━━━━━━━━━━┳━━━━━━━━━━━━━━━┓\n",
       "┃<span style=\"font-weight: bold\"> Layer (type)                    </span>┃<span style=\"font-weight: bold\"> Output Shape           </span>┃<span style=\"font-weight: bold\">       Param # </span>┃\n",
       "┡━━━━━━━━━━━━━━━━━━━━━━━━━━━━━━━━━╇━━━━━━━━━━━━━━━━━━━━━━━━╇━━━━━━━━━━━━━━━┩\n",
       "│ dense (<span style=\"color: #0087ff; text-decoration-color: #0087ff\">Dense</span>)                   │ (<span style=\"color: #00d7ff; text-decoration-color: #00d7ff\">None</span>, <span style=\"color: #00af00; text-decoration-color: #00af00\">80</span>)             │         <span style=\"color: #00af00; text-decoration-color: #00af00\">3,520</span> │\n",
       "├─────────────────────────────────┼────────────────────────┼───────────────┤\n",
       "│ dense_1 (<span style=\"color: #0087ff; text-decoration-color: #0087ff\">Dense</span>)                 │ (<span style=\"color: #00d7ff; text-decoration-color: #00d7ff\">None</span>, <span style=\"color: #00af00; text-decoration-color: #00af00\">30</span>)             │         <span style=\"color: #00af00; text-decoration-color: #00af00\">2,430</span> │\n",
       "├─────────────────────────────────┼────────────────────────┼───────────────┤\n",
       "│ dense_2 (<span style=\"color: #0087ff; text-decoration-color: #0087ff\">Dense</span>)                 │ (<span style=\"color: #00d7ff; text-decoration-color: #00d7ff\">None</span>, <span style=\"color: #00af00; text-decoration-color: #00af00\">1</span>)              │            <span style=\"color: #00af00; text-decoration-color: #00af00\">31</span> │\n",
       "└─────────────────────────────────┴────────────────────────┴───────────────┘\n",
       "</pre>\n"
      ],
      "text/plain": [
       "┏━━━━━━━━━━━━━━━━━━━━━━━━━━━━━━━━━┳━━━━━━━━━━━━━━━━━━━━━━━━┳━━━━━━━━━━━━━━━┓\n",
       "┃\u001b[1m \u001b[0m\u001b[1mLayer (type)                   \u001b[0m\u001b[1m \u001b[0m┃\u001b[1m \u001b[0m\u001b[1mOutput Shape          \u001b[0m\u001b[1m \u001b[0m┃\u001b[1m \u001b[0m\u001b[1m      Param #\u001b[0m\u001b[1m \u001b[0m┃\n",
       "┡━━━━━━━━━━━━━━━━━━━━━━━━━━━━━━━━━╇━━━━━━━━━━━━━━━━━━━━━━━━╇━━━━━━━━━━━━━━━┩\n",
       "│ dense (\u001b[38;5;33mDense\u001b[0m)                   │ (\u001b[38;5;45mNone\u001b[0m, \u001b[38;5;34m80\u001b[0m)             │         \u001b[38;5;34m3,520\u001b[0m │\n",
       "├─────────────────────────────────┼────────────────────────┼───────────────┤\n",
       "│ dense_1 (\u001b[38;5;33mDense\u001b[0m)                 │ (\u001b[38;5;45mNone\u001b[0m, \u001b[38;5;34m30\u001b[0m)             │         \u001b[38;5;34m2,430\u001b[0m │\n",
       "├─────────────────────────────────┼────────────────────────┼───────────────┤\n",
       "│ dense_2 (\u001b[38;5;33mDense\u001b[0m)                 │ (\u001b[38;5;45mNone\u001b[0m, \u001b[38;5;34m1\u001b[0m)              │            \u001b[38;5;34m31\u001b[0m │\n",
       "└─────────────────────────────────┴────────────────────────┴───────────────┘\n"
      ]
     },
     "metadata": {},
     "output_type": "display_data"
    },
    {
     "data": {
      "text/html": [
       "<pre style=\"white-space:pre;overflow-x:auto;line-height:normal;font-family:Menlo,'DejaVu Sans Mono',consolas,'Courier New',monospace\"><span style=\"font-weight: bold\"> Total params: </span><span style=\"color: #00af00; text-decoration-color: #00af00\">5,981</span> (23.36 KB)\n",
       "</pre>\n"
      ],
      "text/plain": [
       "\u001b[1m Total params: \u001b[0m\u001b[38;5;34m5,981\u001b[0m (23.36 KB)\n"
      ]
     },
     "metadata": {},
     "output_type": "display_data"
    },
    {
     "data": {
      "text/html": [
       "<pre style=\"white-space:pre;overflow-x:auto;line-height:normal;font-family:Menlo,'DejaVu Sans Mono',consolas,'Courier New',monospace\"><span style=\"font-weight: bold\"> Trainable params: </span><span style=\"color: #00af00; text-decoration-color: #00af00\">5,981</span> (23.36 KB)\n",
       "</pre>\n"
      ],
      "text/plain": [
       "\u001b[1m Trainable params: \u001b[0m\u001b[38;5;34m5,981\u001b[0m (23.36 KB)\n"
      ]
     },
     "metadata": {},
     "output_type": "display_data"
    },
    {
     "data": {
      "text/html": [
       "<pre style=\"white-space:pre;overflow-x:auto;line-height:normal;font-family:Menlo,'DejaVu Sans Mono',consolas,'Courier New',monospace\"><span style=\"font-weight: bold\"> Non-trainable params: </span><span style=\"color: #00af00; text-decoration-color: #00af00\">0</span> (0.00 B)\n",
       "</pre>\n"
      ],
      "text/plain": [
       "\u001b[1m Non-trainable params: \u001b[0m\u001b[38;5;34m0\u001b[0m (0.00 B)\n"
      ]
     },
     "metadata": {},
     "output_type": "display_data"
    }
   ],
   "source": [
    "# Define the model - deep neural net, i.e., the number of input features and hidden nodes for each layer.\n",
    "\n",
    "\n",
    "nn = tf.keras.models.Sequential()\n",
    "\n",
    "\n",
    "nn.add(tf.keras.layers.Dense(units=80, activation=\"relu\", input_dim=X_train_scaled.shape[1]))\n",
    "\n",
    "\n",
    "\n",
    "nn.add(tf.keras.layers.Dense(units=30, activation=\"relu\"))\n",
    "\n",
    "\n",
    "\n",
    "nn.add(tf.keras.layers.Dense(units=1, activation=\"sigmoid\"))\n",
    "\n",
    "\n",
    "nn.summary()"
   ]
  },
  {
   "cell_type": "code",
   "execution_count": 19,
   "metadata": {},
   "outputs": [],
   "source": [
    "# Compile the model\n",
    "nn.compile(loss=\"binary_crossentropy\", optimizer=\"adam\", metrics=[\"accuracy\"])"
   ]
  },
  {
   "cell_type": "code",
   "execution_count": 20,
   "metadata": {},
   "outputs": [
    {
     "name": "stdout",
     "output_type": "stream",
     "text": [
      "Epoch 1/50\n",
      "858/858 - 2s - 3ms/step - accuracy: 0.7235 - loss: 0.5690\n",
      "Epoch 2/50\n",
      "858/858 - 1s - 1ms/step - accuracy: 0.7296 - loss: 0.5555\n",
      "Epoch 3/50\n",
      "858/858 - 1s - 1ms/step - accuracy: 0.7315 - loss: 0.5518\n",
      "Epoch 4/50\n",
      "858/858 - 1s - 2ms/step - accuracy: 0.7315 - loss: 0.5503\n",
      "Epoch 5/50\n",
      "858/858 - 1s - 1ms/step - accuracy: 0.7317 - loss: 0.5488\n",
      "Epoch 6/50\n",
      "858/858 - 1s - 1ms/step - accuracy: 0.7323 - loss: 0.5484\n",
      "Epoch 7/50\n",
      "858/858 - 1s - 1ms/step - accuracy: 0.7329 - loss: 0.5464\n",
      "Epoch 8/50\n",
      "858/858 - 1s - 1ms/step - accuracy: 0.7339 - loss: 0.5465\n",
      "Epoch 9/50\n",
      "858/858 - 2s - 2ms/step - accuracy: 0.7333 - loss: 0.5460\n",
      "Epoch 10/50\n",
      "858/858 - 1s - 1ms/step - accuracy: 0.7335 - loss: 0.5455\n",
      "Epoch 11/50\n",
      "858/858 - 1s - 1ms/step - accuracy: 0.7341 - loss: 0.5449\n",
      "Epoch 12/50\n",
      "858/858 - 1s - 1ms/step - accuracy: 0.7351 - loss: 0.5449\n",
      "Epoch 13/50\n",
      "858/858 - 1s - 2ms/step - accuracy: 0.7341 - loss: 0.5441\n",
      "Epoch 14/50\n",
      "858/858 - 1s - 1ms/step - accuracy: 0.7344 - loss: 0.5435\n",
      "Epoch 15/50\n",
      "858/858 - 1s - 1ms/step - accuracy: 0.7349 - loss: 0.5435\n",
      "Epoch 16/50\n",
      "858/858 - 1s - 2ms/step - accuracy: 0.7355 - loss: 0.5429\n",
      "Epoch 17/50\n",
      "858/858 - 1s - 1ms/step - accuracy: 0.7344 - loss: 0.5431\n",
      "Epoch 18/50\n",
      "858/858 - 1s - 1ms/step - accuracy: 0.7349 - loss: 0.5427\n",
      "Epoch 19/50\n",
      "858/858 - 1s - 2ms/step - accuracy: 0.7362 - loss: 0.5425\n",
      "Epoch 20/50\n",
      "858/858 - 1s - 2ms/step - accuracy: 0.7352 - loss: 0.5423\n",
      "Epoch 21/50\n",
      "858/858 - 1s - 2ms/step - accuracy: 0.7367 - loss: 0.5418\n",
      "Epoch 22/50\n",
      "858/858 - 1s - 2ms/step - accuracy: 0.7357 - loss: 0.5416\n",
      "Epoch 23/50\n",
      "858/858 - 1s - 2ms/step - accuracy: 0.7363 - loss: 0.5418\n",
      "Epoch 24/50\n",
      "858/858 - 1s - 2ms/step - accuracy: 0.7352 - loss: 0.5414\n",
      "Epoch 25/50\n",
      "858/858 - 1s - 2ms/step - accuracy: 0.7376 - loss: 0.5409\n",
      "Epoch 26/50\n",
      "858/858 - 2s - 2ms/step - accuracy: 0.7364 - loss: 0.5411\n",
      "Epoch 27/50\n",
      "858/858 - 2s - 2ms/step - accuracy: 0.7366 - loss: 0.5408\n",
      "Epoch 28/50\n",
      "858/858 - 1s - 2ms/step - accuracy: 0.7375 - loss: 0.5404\n",
      "Epoch 29/50\n",
      "858/858 - 1s - 2ms/step - accuracy: 0.7377 - loss: 0.5400\n",
      "Epoch 30/50\n",
      "858/858 - 1s - 2ms/step - accuracy: 0.7377 - loss: 0.5405\n",
      "Epoch 31/50\n",
      "858/858 - 2s - 2ms/step - accuracy: 0.7378 - loss: 0.5397\n",
      "Epoch 32/50\n",
      "858/858 - 1s - 2ms/step - accuracy: 0.7360 - loss: 0.5397\n",
      "Epoch 33/50\n",
      "858/858 - 1s - 2ms/step - accuracy: 0.7381 - loss: 0.5394\n",
      "Epoch 34/50\n",
      "858/858 - 2s - 2ms/step - accuracy: 0.7381 - loss: 0.5391\n",
      "Epoch 35/50\n",
      "858/858 - 2s - 2ms/step - accuracy: 0.7376 - loss: 0.5397\n",
      "Epoch 36/50\n",
      "858/858 - 1s - 2ms/step - accuracy: 0.7377 - loss: 0.5389\n",
      "Epoch 37/50\n",
      "858/858 - 2s - 2ms/step - accuracy: 0.7370 - loss: 0.5389\n",
      "Epoch 38/50\n",
      "858/858 - 2s - 2ms/step - accuracy: 0.7374 - loss: 0.5389\n",
      "Epoch 39/50\n",
      "858/858 - 2s - 2ms/step - accuracy: 0.7367 - loss: 0.5386\n",
      "Epoch 40/50\n",
      "858/858 - 2s - 2ms/step - accuracy: 0.7376 - loss: 0.5384\n",
      "Epoch 41/50\n",
      "858/858 - 2s - 2ms/step - accuracy: 0.7386 - loss: 0.5384\n",
      "Epoch 42/50\n",
      "858/858 - 2s - 2ms/step - accuracy: 0.7379 - loss: 0.5387\n",
      "Epoch 43/50\n",
      "858/858 - 2s - 2ms/step - accuracy: 0.7379 - loss: 0.5383\n",
      "Epoch 44/50\n",
      "858/858 - 2s - 2ms/step - accuracy: 0.7387 - loss: 0.5383\n",
      "Epoch 45/50\n",
      "858/858 - 2s - 2ms/step - accuracy: 0.7383 - loss: 0.5382\n",
      "Epoch 46/50\n",
      "858/858 - 2s - 2ms/step - accuracy: 0.7384 - loss: 0.5380\n",
      "Epoch 47/50\n",
      "858/858 - 2s - 2ms/step - accuracy: 0.7384 - loss: 0.5380\n",
      "Epoch 48/50\n",
      "858/858 - 2s - 2ms/step - accuracy: 0.7388 - loss: 0.5376\n",
      "Epoch 49/50\n",
      "858/858 - 2s - 2ms/step - accuracy: 0.7381 - loss: 0.5376\n",
      "Epoch 50/50\n",
      "858/858 - 2s - 2ms/step - accuracy: 0.7393 - loss: 0.5376\n"
     ]
    },
    {
     "data": {
      "text/plain": [
       "<keras.src.callbacks.history.History at 0x138d9d250>"
      ]
     },
     "execution_count": 20,
     "metadata": {},
     "output_type": "execute_result"
    }
   ],
   "source": [
    "# Train the model\n",
    "nn.fit(X_train_scaled, y_train, epochs=50, batch_size=32, verbose=2)\n"
   ]
  },
  {
   "cell_type": "code",
   "execution_count": 21,
   "metadata": {},
   "outputs": [
    {
     "name": "stdout",
     "output_type": "stream",
     "text": [
      "215/215 - 0s - 2ms/step - accuracy: 0.7254 - loss: 0.5590\n",
      "Loss: 0.5590031743049622, Accuracy: 0.7253644466400146\n"
     ]
    }
   ],
   "source": [
    "# Evaluate the model using the test data\n",
    "model_loss, model_accuracy = nn.evaluate(X_test_scaled,y_test,verbose=2)\n",
    "print(f\"Loss: {model_loss}, Accuracy: {model_accuracy}\")"
   ]
  },
  {
   "cell_type": "code",
   "execution_count": 28,
   "metadata": {},
   "outputs": [
    {
     "name": "stderr",
     "output_type": "stream",
     "text": [
      "WARNING:absl:You are saving your model as an HDF5 file via `model.save()` or `keras.saving.save_model(model)`. This file format is considered legacy. We recommend using instead the native Keras format, e.g. `model.save('my_model.keras')` or `keras.saving.save_model(model, 'my_model.keras')`. \n",
      "WARNING:absl:You are saving your model as an HDF5 file via `model.save()` or `keras.saving.save_model(model)`. This file format is considered legacy. We recommend using instead the native Keras format, e.g. `model.save('my_model.keras')` or `keras.saving.save_model(model, 'my_model.keras')`. \n"
     ]
    }
   ],
   "source": [
    "# Export our model to HDF5 file\n",
    "nn.save(\"AlphabetSoupCharity.h5\")\n",
    "\n",
    "nn.save(\"/Users/christinaland/Challenge 21/AlphabetSoupCharity.h5\")\n"
   ]
  }
 ],
 "metadata": {
  "kernelspec": {
   "display_name": "Python 3 (ipykernel)",
   "language": "python",
   "name": "python3"
  },
  "language_info": {
   "codemirror_mode": {
    "name": "ipython",
    "version": 3
   },
   "file_extension": ".py",
   "mimetype": "text/x-python",
   "name": "python",
   "nbconvert_exporter": "python",
   "pygments_lexer": "ipython3",
   "version": "3.12.6"
  },
  "vscode": {
   "interpreter": {
    "hash": "31f2aee4e71d21fbe5cf8b01ff0e069b9275f58929596ceb00d14d90e3e16cd6"
   }
  }
 },
 "nbformat": 4,
 "nbformat_minor": 4
}
